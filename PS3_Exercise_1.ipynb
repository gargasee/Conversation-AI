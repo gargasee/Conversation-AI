{
  "nbformat": 4,
  "nbformat_minor": 0,
  "metadata": {
    "colab": {
      "provenance": []
    },
    "kernelspec": {
      "name": "python3",
      "display_name": "Python 3"
    },
    "language_info": {
      "name": "python"
    }
  },
  "cells": [
    {
      "cell_type": "markdown",
      "source": [
        "Install and import NLTK:"
      ],
      "metadata": {
        "id": "ep3ImIa3rFWO"
      }
    },
    {
      "cell_type": "code",
      "source": [
        "!pip install nltk\n",
        "import nltk\n",
        "nltk.download('punkt')\n",
        "from nltk.tokenize import word_tokenize\n",
        "from nltk.probability import FreqDist"
      ],
      "metadata": {
        "colab": {
          "base_uri": "https://localhost:8080/"
        },
        "id": "0AkCOVcprJd5",
        "outputId": "b59a07c6-0119-43b6-b1f6-470e0386e4e4"
      },
      "execution_count": 1,
      "outputs": [
        {
          "output_type": "stream",
          "name": "stdout",
          "text": [
            "Requirement already satisfied: nltk in /usr/local/lib/python3.10/dist-packages (3.8.1)\n",
            "Requirement already satisfied: click in /usr/local/lib/python3.10/dist-packages (from nltk) (8.1.7)\n",
            "Requirement already satisfied: joblib in /usr/local/lib/python3.10/dist-packages (from nltk) (1.4.2)\n",
            "Requirement already satisfied: regex>=2021.8.3 in /usr/local/lib/python3.10/dist-packages (from nltk) (2024.9.11)\n",
            "Requirement already satisfied: tqdm in /usr/local/lib/python3.10/dist-packages (from nltk) (4.66.6)\n"
          ]
        },
        {
          "output_type": "stream",
          "name": "stderr",
          "text": [
            "[nltk_data] Downloading package punkt to /root/nltk_data...\n",
            "[nltk_data]   Unzipping tokenizers/punkt.zip.\n"
          ]
        }
      ]
    },
    {
      "cell_type": "markdown",
      "source": [
        "Read and tokenize the text:"
      ],
      "metadata": {
        "id": "anYcCEWTrSgU"
      }
    },
    {
      "cell_type": "code",
      "source": [
        "# Create a variable ‘text’\n",
        "text = \"\"\"\n",
        "Natural Language Toolkit (NLTK) is a powerful Python library for working with human language data.\n",
        "It provides easy-to-use interfaces to over 50 corpora and lexical resources such as WordNet,\n",
        "along with a suite of text processing libraries for classification, tokenization, stemming, tagging,\n",
        "parsing, and more. NLTK is widely used in academia and industry for natural language processing tasks.\n",
        "It is an excellent tool for beginners and professionals alike who want to work with textual data in Python.\n",
        "\"\"\"\n",
        "\n",
        "# Tokenize the text\n",
        "tokens = word_tokenize(text)\n",
        "\n",
        "# Print the tokens\n",
        "print(\"Tokens:\", tokens[:100])  # Display the first 100 tokens as a sample\n",
        "\n",
        "# Count the number of tokens\n",
        "num_tokens = len(tokens)\n",
        "print(\"Number of tokens:\", num_tokens)\n",
        "\n",
        "# Identify the frequency of each token\n",
        "freq_dist = FreqDist(tokens)\n",
        "\n",
        "# Print the most common tokens\n",
        "print(\"Most common tokens:\", freq_dist.most_common(10))"
      ],
      "metadata": {
        "colab": {
          "base_uri": "https://localhost:8080/"
        },
        "id": "GuTqksAzrZLU",
        "outputId": "24b0ec80-f251-490e-ad9c-638101584f5a"
      },
      "execution_count": 2,
      "outputs": [
        {
          "output_type": "stream",
          "name": "stdout",
          "text": [
            "Tokens: ['Natural', 'Language', 'Toolkit', '(', 'NLTK', ')', 'is', 'a', 'powerful', 'Python', 'library', 'for', 'working', 'with', 'human', 'language', 'data', '.', 'It', 'provides', 'easy-to-use', 'interfaces', 'to', 'over', '50', 'corpora', 'and', 'lexical', 'resources', 'such', 'as', 'WordNet', ',', 'along', 'with', 'a', 'suite', 'of', 'text', 'processing', 'libraries', 'for', 'classification', ',', 'tokenization', ',', 'stemming', ',', 'tagging', ',', 'parsing', ',', 'and', 'more', '.', 'NLTK', 'is', 'widely', 'used', 'in', 'academia', 'and', 'industry', 'for', 'natural', 'language', 'processing', 'tasks', '.', 'It', 'is', 'an', 'excellent', 'tool', 'for', 'beginners', 'and', 'professionals', 'alike', 'who', 'want', 'to', 'work', 'with', 'textual', 'data', 'in', 'Python', '.']\n",
            "Number of tokens: 89\n",
            "Most common tokens: [(',', 6), ('for', 4), ('.', 4), ('and', 4), ('is', 3), ('with', 3), ('NLTK', 2), ('a', 2), ('Python', 2), ('language', 2)]\n"
          ]
        }
      ]
    }
  ]
}